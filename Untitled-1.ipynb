{
 "metadata": {
  "language_info": {
   "codemirror_mode": {
    "name": "ipython",
    "version": 3
   },
   "file_extension": ".py",
   "mimetype": "text/x-python",
   "name": "python",
   "nbconvert_exporter": "python",
   "pygments_lexer": "ipython3",
   "version": "3.9.2"
  },
  "orig_nbformat": 2,
  "kernelspec": {
   "name": "python392jvsc74a57bd00ae0d92bc431ea32c3f12df16d0b650d2837241ca15b392bba42b5fad783e7f3",
   "display_name": "Python 3.9.2 64-bit"
  },
  "metadata": {
   "interpreter": {
    "hash": "0ae0d92bc431ea32c3f12df16d0b650d2837241ca15b392bba42b5fad783e7f3"
   }
  }
 },
 "nbformat": 4,
 "nbformat_minor": 2,
 "cells": [
  {
   "cell_type": "code",
   "execution_count": 3,
   "metadata": {},
   "outputs": [
    {
     "output_type": "stream",
     "name": "stdout",
     "text": [
      "{'Yellow', 'Blue', 'Green', 'Orange', 'Black', 'Red'}\n"
     ]
    }
   ],
   "source": [
    "#コレクション33\n",
    "s = {'Yellow','Orange','Black'}\n",
    "l = ['Blue','Green','Red']\n",
    "print(s|set(l))"
   ]
  },
  {
   "cell_type": "code",
   "execution_count": 30,
   "metadata": {},
   "outputs": [
    {
     "output_type": "error",
     "ename": "SyntaxError",
     "evalue": "EOL while scanning string literal (<ipython-input-30-9b1e937f188f>, line 4)",
     "traceback": [
      "\u001b[1;36m  File \u001b[1;32m\"<ipython-input-30-9b1e937f188f>\"\u001b[1;36m, line \u001b[1;32m4\u001b[0m\n\u001b[1;33m    print(f'種類数 : {num}'')\u001b[0m\n\u001b[1;37m                          ^\u001b[0m\n\u001b[1;31mSyntaxError\u001b[0m\u001b[1;31m:\u001b[0m EOL while scanning string literal\n"
     ]
    }
   ],
   "source": [
    "#コレクション\n",
    "words = input('入力')\n",
    "num = len(set(words))\n",
    "print(f'種類数 : {num}'')"
   ]
  },
  {
   "cell_type": "code",
   "execution_count": 32,
   "metadata": {},
   "outputs": [
    {
     "output_type": "stream",
     "name": "stdout",
     "text": [
      "{'front': '1', 'behind': '2'}\n"
     ]
    }
   ],
   "source": [
    "#コレクション35\n",
    "words = input('入力')\n",
    "s1 = words[:int(len(words)/2)]\n",
    "s2 = words[int(len(words)/2):]\n",
    "print({'front':s1,'behind':s2})"
   ]
  },
  {
   "cell_type": "code",
   "execution_count": 33,
   "metadata": {},
   "outputs": [
    {
     "output_type": "stream",
     "name": "stdout",
     "text": [
      "{'mon': 36.2, 'tue': 36.5, 'wed': 36.1, 'thu': 36.8, 'fri': 36.3}\n"
     ]
    }
   ],
   "source": [
    "#コレクション36\n",
    "days =['mon','tue','wed','thu','fri']\n",
    "temp = [36.2,36.5,36.1,36.8,36.3]\n",
    "print(dict(zip(days,temp)))"
   ]
  },
  {
   "cell_type": "code",
   "execution_count": 36,
   "metadata": {},
   "outputs": [
    {
     "output_type": "stream",
     "name": "stdout",
     "text": [
      "80\n"
     ]
    }
   ],
   "source": [
    "#コレクション37\n",
    "dic = {\n",
    "    'class':{\n",
    "        'student':{\n",
    "            'name':'Yamada',\n",
    "            'marks':{\n",
    "                'physics':70,\n",
    "                'history':80\n",
    "\n",
    "            }\n",
    "        }\n",
    "    }   \n",
    "}\n",
    "print(dic['class']['student']['marks']['history'])"
   ]
  },
  {
   "cell_type": "code",
   "execution_count": 53,
   "metadata": {},
   "outputs": [
    {
     "output_type": "error",
     "ename": "SyntaxError",
     "evalue": "cannot delete literal (<ipython-input-53-a2b2337c59bd>, line 11)",
     "traceback": [
      "\u001b[1;36m  File \u001b[1;32m\"<ipython-input-53-a2b2337c59bd>\"\u001b[1;36m, line \u001b[1;32m11\u001b[0m\n\u001b[1;33m    del['city']\u001b[0m\n\u001b[1;37m        ^\u001b[0m\n\u001b[1;31mSyntaxError\u001b[0m\u001b[1;31m:\u001b[0m cannot delete literal\n"
     ]
    }
   ],
   "source": [
    "#コレクション38\n",
    "dic = {\n",
    "    'name': 'Yamada',\n",
    "    'age':25,\n",
    "    'salary': 150000,\n",
    "    'city': 'Tokyo'\n",
    "}\n",
    "#dic['location'] = dic.app('city')\n",
    "#print(dic)\n",
    "w = dic['city']\n",
    "del['city']\n",
    "dic['location'] = w\n",
    "print(dic)"
   ]
  },
  {
   "cell_type": "code",
   "execution_count": null,
   "metadata": {},
   "outputs": [],
   "source": [
    "dic = {\n",
    "    'emp1' : {'name': 'Yamada', 'salary': 200000},\n",
    "    'emp2': {'name': 'Tanaka', 'salary': 100000},\n",
    "    'emp3': {'name': 'Soto','salary':120000}\n",
    "}"
   ]
  },
  {
   "cell_type": "code",
   "execution_count": 56,
   "metadata": {},
   "outputs": [
    {
     "output_type": "error",
     "ename": "SyntaxError",
     "evalue": "illegal target for annotation (<ipython-input-56-52285eebfd81>, line 1)",
     "traceback": [
      "\u001b[1;36m  File \u001b[1;32m\"<ipython-input-56-52285eebfd81>\"\u001b[1;36m, line \u001b[1;32m1\u001b[0m\n\u001b[1;33m    '山田':{朝食:'食パン',昼食: 'ハンバーガー',夕食:'ステーキ'}\u001b[0m\n\u001b[1;37m    ^\u001b[0m\n\u001b[1;31mSyntaxError\u001b[0m\u001b[1;31m:\u001b[0m illegal target for annotation\n"
     ]
    }
   ],
   "source": [
    "'山田':{'朝食':'食パン','昼食': 'ハンバーガー','夕食':'ステーキ'}\n",
    "'高橋':{'朝食':'ごはんとみそ汁','昼食':'焼き魚定食','夕食':'おでん'}\n",
    "'佐藤':{'朝食':'シリアス','昼食':'パスタ','夕食':'アクアパッツァ'}\n",
    "name = input('名前は')\n",
    "meal = iput('どの食事')\n",
    "print(f'{name}さんの{meal}は{info[name][meal]}です')"
   ]
  },
  {
   "cell_type": "code",
   "execution_count": 71,
   "metadata": {},
   "outputs": [
    {
     "output_type": "error",
     "ename": "SyntaxError",
     "evalue": "invalid syntax (<ipython-input-71-8e6d6a82a51e>, line 3)",
     "traceback": [
      "\u001b[1;36m  File \u001b[1;32m\"<ipython-input-71-8e6d6a82a51e>\"\u001b[1;36m, line \u001b[1;32m3\u001b[0m\n\u001b[1;33m    '高橋':{'朝食':'ごはんとみそ汁','昼食':'焼き魚定食','夕食':'おでん'}\u001b[0m\n\u001b[1;37m    ^\u001b[0m\n\u001b[1;31mSyntaxError\u001b[0m\u001b[1;31m:\u001b[0m invalid syntax\n"
     ]
    }
   ],
   "source": [
    "info1 = {\n",
    "    '山田':{'朝食':'食パン','昼食': 'ハンバーガー','夕食':'ステーキ'}\n",
    "    '高橋':{'朝食':'ごはんとみそ汁','昼食':'焼き魚定食','夕食':'おでん'}\n",
    "    '佐藤':{'朝食':'シリアス','昼食':'パスタ','夕食':'アクアパッツァ'}\n",
    "}\n",
    "info2 = {\n",
    "    '山田':{'朝食':'ベーコンエッグ','昼食':'ホットドッグ','夕食':'ビーフカレー'},\n",
    "    '高橋':{'朝食':'ごはんと漬物','昼食':'丼物','夕食':'お好み焼き'},\n",
    "    '佐藤':{'朝食':'サラダ','昼食':'ピザ','夕食':'リゾット'}\n",
    "\n",
    "}\n",
    "info ={1:info1, 2:info2}\n",
    "name = input('名前は')\n",
    "meal = input('どの食事')\n",
    "day = int(input('何日目'))\n",
    "print(f'{name}さんの{day}日目の{meal}は{info[day][name][meal]}です')"
   ]
  },
  {
   "cell_type": "code",
   "execution_count": 59,
   "metadata": {},
   "outputs": [
    {
     "output_type": "stream",
     "name": "stdout",
     "text": [
      "True\n"
     ]
    }
   ],
   "source": [
    "menu = {'coffee':250,'tea':230,'milk':150}\n",
    "print(230 in menu.values())"
   ]
  },
  {
   "cell_type": "code",
   "execution_count": 73,
   "metadata": {},
   "outputs": [
    {
     "output_type": "error",
     "ename": "AttributeError",
     "evalue": "'dict' object has no attribute 'cpy'",
     "traceback": [
      "\u001b[1;31m---------------------------------------------------------------------------\u001b[0m",
      "\u001b[1;31mAttributeError\u001b[0m                            Traceback (most recent call last)",
      "\u001b[1;32m<ipython-input-73-1a254ee95200>\u001b[0m in \u001b[0;36m<module>\u001b[1;34m\u001b[0m\n\u001b[0;32m      1\u001b[0m \u001b[0mmenu1\u001b[0m \u001b[1;33m=\u001b[0m \u001b[1;33m{\u001b[0m\u001b[1;34m'coffee'\u001b[0m\u001b[1;33m:\u001b[0m\u001b[1;36m250\u001b[0m\u001b[1;33m,\u001b[0m\u001b[1;34m'sandwich'\u001b[0m\u001b[1;33m:\u001b[0m\u001b[1;36m380\u001b[0m\u001b[1;33m,\u001b[0m\u001b[1;34m'salad'\u001b[0m\u001b[1;33m:\u001b[0m\u001b[1;36m180\u001b[0m\u001b[1;33m}\u001b[0m\u001b[1;33m\u001b[0m\u001b[1;33m\u001b[0m\u001b[0m\n\u001b[0;32m      2\u001b[0m \u001b[0mmenu2\u001b[0m \u001b[1;33m=\u001b[0m \u001b[1;33m{\u001b[0m\u001b[1;34m'cake'\u001b[0m\u001b[1;33m:\u001b[0m\u001b[1;36m380\u001b[0m\u001b[1;33m,\u001b[0m \u001b[1;34m'parfait'\u001b[0m\u001b[1;33m:\u001b[0m\u001b[1;36m400\u001b[0m\u001b[1;33m}\u001b[0m\u001b[1;33m\u001b[0m\u001b[1;33m\u001b[0m\u001b[0m\n\u001b[1;32m----> 3\u001b[1;33m \u001b[0mmenu\u001b[0m \u001b[1;33m=\u001b[0m \u001b[0mmenu1\u001b[0m\u001b[1;33m.\u001b[0m\u001b[0mcpy\u001b[0m\u001b[1;33m(\u001b[0m\u001b[1;33m)\u001b[0m\u001b[1;33m\u001b[0m\u001b[1;33m\u001b[0m\u001b[0m\n\u001b[0m\u001b[0;32m      4\u001b[0m \u001b[0mmenu\u001b[0m\u001b[1;33m.\u001b[0m\u001b[0mupdate\u001b[0m\u001b[1;33m(\u001b[0m\u001b[0mmanu2\u001b[0m\u001b[1;33m)\u001b[0m\u001b[1;33m\u001b[0m\u001b[1;33m\u001b[0m\u001b[0m\n\u001b[0;32m      5\u001b[0m \u001b[0mmenu\u001b[0m \u001b[1;33m=\u001b[0m \u001b[0mmenu1\u001b[0m \u001b[1;33m|\u001b[0m \u001b[0mmenu2\u001b[0m\u001b[1;33m\u001b[0m\u001b[1;33m\u001b[0m\u001b[0m\n",
      "\u001b[1;31mAttributeError\u001b[0m: 'dict' object has no attribute 'cpy'"
     ]
    }
   ],
   "source": [
    "menu1 = {'coffee':250,'sandwich':380,'salad':180}\n",
    "menu2 = {'cake':380, 'parfait':400}\n",
    "menu = menu1.cpy()\n",
    "menu.update(manu2)\n",
    "print(menu)\n",
    "print('合計 : '+str(sum(menu.values())))"
   ]
  },
  {
   "cell_type": "code",
   "execution_count": 77,
   "metadata": {},
   "outputs": [
    {
     "output_type": "stream",
     "name": "stdout",
     "text": [
      "{'hoge': 250, 'foo': 300, 'bar': 120}\n",
      "{'hoge': 250, 'foo': 300, 'bar': 120, '2': 3}\n",
      "{'hoge': 250, 'foo': 300, 'bar': 120}\n"
     ]
    }
   ],
   "source": [
    "samp = {'hoge':250,'foo':300,'bar':120}\n",
    "print(samp)\n",
    "key = input('追加key')\n",
    "val = int(input('追加key'))\n",
    "samp[key] = val\n",
    "print(samp)\n",
    "rm = input('削除key')\n",
    "del samp[rm]\n",
    "print(samp)"
   ]
  },
  {
   "cell_type": "code",
   "execution_count": null,
   "metadata": {},
   "outputs": [],
   "source": []
  }
 ]
}